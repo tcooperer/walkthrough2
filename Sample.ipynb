{
 "cells": [
  {
   "cell_type": "markdown",
   "id": "ef24db89-0ca6-4f11-a8be-1f467ca035d0",
   "metadata": {},
   "source": [
    "## Walkthrough Notebook"
   ]
  },
  {
   "cell_type": "markdown",
   "id": "1582291d-c0a8-486d-a4ba-b2fe3e5b0593",
   "metadata": {},
   "source": [
    "Here is how I calculate `1+1`"
   ]
  },
  {
   "cell_type": "code",
   "execution_count": 2,
   "id": "fc5238e2-05cd-4438-9bb4-9b0025fd4a5a",
   "metadata": {},
   "outputs": [
    {
     "data": {
      "text/plain": [
       "2"
      ]
     },
     "execution_count": 2,
     "metadata": {},
     "output_type": "execute_result"
    }
   ],
   "source": [
    "1+1"
   ]
  },
  {
   "cell_type": "code",
   "execution_count": 3,
   "id": "9a11d78a-5966-41ae-a783-e03d74b95457",
   "metadata": {},
   "outputs": [],
   "source": [
    "from numpy import *"
   ]
  },
  {
   "cell_type": "markdown",
   "id": "42c3386c-e162-4abc-bda5-a5356f872493",
   "metadata": {},
   "source": [
    "Here is how I calculate `sin`"
   ]
  },
  {
   "cell_type": "code",
   "execution_count": 5,
   "id": "9db25b77-3790-4867-9b10-5236af00949d",
   "metadata": {},
   "outputs": [
    {
     "data": {
      "text/plain": [
       "array([0.84147098, 1.        ])"
      ]
     },
     "execution_count": 5,
     "metadata": {},
     "output_type": "execute_result"
    }
   ],
   "source": [
    "a = array([1.0, pi/2])\n",
    "sin(a)"
   ]
  }
 ],
 "metadata": {
  "kernelspec": {
   "display_name": "Python 3 (ipykernel)",
   "language": "python",
   "name": "python3"
  },
  "language_info": {
   "codemirror_mode": {
    "name": "ipython",
    "version": 3
   },
   "file_extension": ".py",
   "mimetype": "text/x-python",
   "name": "python",
   "nbconvert_exporter": "python",
   "pygments_lexer": "ipython3",
   "version": "3.12.8"
  }
 },
 "nbformat": 4,
 "nbformat_minor": 5
}
